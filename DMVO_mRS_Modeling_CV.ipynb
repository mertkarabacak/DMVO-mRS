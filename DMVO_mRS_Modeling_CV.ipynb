{
 "cells": [
  {
   "cell_type": "code",
   "execution_count": null,
   "metadata": {
    "colab": {
     "base_uri": "https://localhost:8080/"
    },
    "executionInfo": {
     "elapsed": 2384,
     "status": "ok",
     "timestamp": 1698691333893,
     "user": {
      "displayName": "Mert Karabacak",
      "userId": "14308977132914475412"
     },
     "user_tz": 240
    },
    "id": "RxtJ9G-aIZ_y",
    "outputId": "1b5a197d-8942-418e-d32b-25496626088a"
   },
   "outputs": [],
   "source": [
    "from google.colab import drive\n",
    "drive.mount('/content/drive')"
   ]
  },
  {
   "cell_type": "code",
   "execution_count": null,
   "metadata": {
    "colab": {
     "base_uri": "https://localhost:8080/"
    },
    "executionInfo": {
     "elapsed": 8027,
     "status": "ok",
     "timestamp": 1698691341914,
     "user": {
      "displayName": "Mert Karabacak",
      "userId": "14308977132914475412"
     },
     "user_tz": 240
    },
    "id": "h_PnaQ4NIuE0",
    "outputId": "7351975b-f1d7-4dec-befe-a5f79d268786"
   },
   "outputs": [],
   "source": [
    "!pip install shap\n",
    "!pip install tabpfn"
   ]
  },
  {
   "cell_type": "code",
   "execution_count": null,
   "metadata": {
    "executionInfo": {
     "elapsed": 34,
     "status": "ok",
     "timestamp": 1698691341915,
     "user": {
      "displayName": "Mert Karabacak",
      "userId": "14308977132914475412"
     },
     "user_tz": 240
    },
    "id": "JrZMQLTfIQPb"
   },
   "outputs": [],
   "source": [
    "import numpy as np\n",
    "import pandas as pd\n",
    "\n",
    "import sklearn\n",
    "import sklearn.metrics\n",
    "from sklearn.metrics import (accuracy_score, auc, classification_report, confusion_matrix, f1_score, matthews_corrcoef, precision_recall_curve, precision_score, recall_score, roc_auc_score, roc_curve, brier_score_loss)\n",
    "from sklearn.utils import resample\n",
    "from math import sqrt\n",
    "from scipy import stats as st\n",
    "from random import randrange\n",
    "\n",
    "from matplotlib import pyplot\n",
    "import seaborn as sns\n",
    "\n",
    "from sklearn.model_selection import StratifiedKFold\n",
    "from tabpfn import TabPFNClassifier\n",
    "from sklearn.calibration import CalibratedClassifierCV\n",
    "\n",
    "import shap\n",
    "from sklearn.inspection import PartialDependenceDisplay\n",
    "from sklearn.calibration import calibration_curve\n",
    "\n",
    "import cv2\n",
    "from google.colab.patches import cv2_imshow\n",
    "from PIL import Image\n",
    "\n",
    "pd.set_option('display.max_rows', None)"
   ]
  },
  {
   "cell_type": "markdown",
   "metadata": {
    "id": "UWbpPFMVHS-V"
   },
   "source": [
    "# Preparing Data"
   ]
  },
  {
   "cell_type": "code",
   "execution_count": null,
   "metadata": {
    "executionInfo": {
     "elapsed": 31,
     "status": "ok",
     "timestamp": 1698691341915,
     "user": {
      "displayName": "Mert Karabacak",
      "userId": "14308977132914475412"
     },
     "user_tz": 240
    },
    "id": "H0-2WL4kM6VF"
   },
   "outputs": [],
   "source": [
    "#Open csv file.\n",
    "\n",
    "data = pd.read_csv('/content/drive/MyDrive/DMVO-mRS/final_data.csv', index_col = 0)"
   ]
  },
  {
   "cell_type": "code",
   "execution_count": null,
   "metadata": {
    "colab": {
     "base_uri": "https://localhost:8080/"
    },
    "executionInfo": {
     "elapsed": 30,
     "status": "ok",
     "timestamp": 1698691341915,
     "user": {
      "displayName": "Mert Karabacak",
      "userId": "14308977132914475412"
     },
     "user_tz": 240
    },
    "id": "7kcAY-k6LkxW",
    "outputId": "ba55a665-e542-4091-b2a2-9c38587bc073"
   },
   "outputs": [],
   "source": [
    "print(list(data.columns))"
   ]
  },
  {
   "cell_type": "code",
   "execution_count": null,
   "metadata": {
    "colab": {
     "base_uri": "https://localhost:8080/"
    },
    "executionInfo": {
     "elapsed": 25,
     "status": "ok",
     "timestamp": 1698691341915,
     "user": {
      "displayName": "Mert Karabacak",
      "userId": "14308977132914475412"
     },
     "user_tz": 240
    },
    "id": "G9TtFoopM6VJ",
    "outputId": "f7ad8ef8-cb24-4316-a0bd-33b24e173c3e"
   },
   "outputs": [],
   "source": [
    "#Define outcome of interest.\n",
    "\n",
    "data.loc[data['mRS at 90 days'] <= 2, 'OUTCOME'] = 0\n",
    "data.loc[data['mRS at 90 days'] > 2, 'OUTCOME'] = 1\n",
    "data = data.dropna(subset=['OUTCOME'])\n",
    "\n",
    "data['OUTCOME'].value_counts(normalize=False, dropna=False)"
   ]
  },
  {
   "cell_type": "code",
   "execution_count": null,
   "metadata": {
    "colab": {
     "base_uri": "https://localhost:8080/"
    },
    "executionInfo": {
     "elapsed": 21,
     "status": "ok",
     "timestamp": 1698691341915,
     "user": {
      "displayName": "Mert Karabacak",
      "userId": "14308977132914475412"
     },
     "user_tz": 240
    },
    "id": "GJavA0-EM6VK",
    "outputId": "db4827c3-7139-440c-9b8a-e526f7ad61ce"
   },
   "outputs": [],
   "source": [
    "#Define predictor variables (x) and outcome of interest (y).\n",
    "\n",
    "outcomes = ['mRS at 90 days', 'OUTCOME']\n",
    "\n",
    "x = data.drop(outcomes, axis = 1)\n",
    "y = data['OUTCOME']"
   ]
  },
  {
   "cell_type": "code",
   "execution_count": null,
   "metadata": {
    "colab": {
     "base_uri": "https://localhost:8080/"
    },
    "executionInfo": {
     "elapsed": 19,
     "status": "ok",
     "timestamp": 1698691341915,
     "user": {
      "displayName": "Mert Karabacak",
      "userId": "14308977132914475412"
     },
     "user_tz": 240
    },
    "id": "mt6ks1daIQPd",
    "outputId": "7e87767a-0513-44af-8301-bb57d9b38673"
   },
   "outputs": [],
   "source": [
    "#Check data shapes.\n",
    "\n",
    "print(y.shape)\n",
    "print(x.shape)"
   ]
  },
  {
   "cell_type": "code",
   "execution_count": null,
   "metadata": {
    "executionInfo": {
     "elapsed": 17,
     "status": "ok",
     "timestamp": 1698691341915,
     "user": {
      "displayName": "Mert Karabacak",
      "userId": "14308977132914475412"
     },
     "user_tz": 240
    },
    "id": "djR--SptauOn"
   },
   "outputs": [],
   "source": [
    "def bootstrap_ci(metric_list, n_bootstraps=1000, alpha=0.05):\n",
    "    bootstrapped_metrics = []\n",
    "    for _ in range(n_bootstraps):\n",
    "        bootstrapped_metric = np.mean(resample(metric_list, replace=True, n_samples=len(metric_list)))\n",
    "        bootstrapped_metrics.append(bootstrapped_metric)\n",
    "\n",
    "    lower_bound = np.percentile(bootstrapped_metrics, alpha / 2 * 100)\n",
    "    upper_bound = np.percentile(bootstrapped_metrics, (1 - alpha / 2) * 100)\n",
    "    return lower_bound, upper_bound"
   ]
  },
  {
   "cell_type": "markdown",
   "metadata": {
    "id": "UWX_CriXYlL_"
   },
   "source": [
    "#TabPFN"
   ]
  },
  {
   "cell_type": "markdown",
   "metadata": {
    "id": "OFQmwskRLrY4"
   },
   "source": [
    "No hyperparameter tuning is performed for TabPFN since the paper that introduced TabPFN claims no hyperparameter tuning is needed for it:\n",
    "\n",
    "\n",
    "*We present TabPFN, a trained Transformer that can do supervised classification for small tabular datasets in less than a second, needs no hyperparameter tuning and is competitive with state-of-the-art classification methods.*\n",
    "\n",
    "https://doi.org/10.48550/arXiv.2207.01848\n"
   ]
  },
  {
   "cell_type": "code",
   "execution_count": null,
   "metadata": {
    "executionInfo": {
     "elapsed": 17,
     "status": "ok",
     "timestamp": 1698691341915,
     "user": {
      "displayName": "Mert Karabacak",
      "userId": "14308977132914475412"
     },
     "user_tz": 240
    },
    "id": "F3gvvODJ8B2Z"
   },
   "outputs": [],
   "source": [
    "# Initialize 5-fold cross-validator.\n",
    "\n",
    "cv = StratifiedKFold(n_splits=10, shuffle=True, random_state=31)"
   ]
  },
  {
   "cell_type": "code",
   "execution_count": null,
   "metadata": {
    "executionInfo": {
     "elapsed": 16,
     "status": "ok",
     "timestamp": 1698691341915,
     "user": {
      "displayName": "Mert Karabacak",
      "userId": "14308977132914475412"
     },
     "user_tz": 240
    },
    "id": "n-OaFyGyt7aT"
   },
   "outputs": [],
   "source": [
    "from sklearn.linear_model import Lasso\n",
    "from collections import Counter\n",
    "from sklearn.preprocessing import MinMaxScaler"
   ]
  },
  {
   "cell_type": "code",
   "execution_count": null,
   "metadata": {
    "colab": {
     "base_uri": "https://localhost:8080/"
    },
    "executionInfo": {
     "elapsed": 17,
     "status": "ok",
     "timestamp": 1698691341916,
     "user": {
      "displayName": "Mert Karabacak",
      "userId": "14308977132914475412"
     },
     "user_tz": 240
    },
    "id": "FSjQl3ynt42W",
    "outputId": "e3699e29-8404-4e60-d3a7-cf5e012ea6ac"
   },
   "outputs": [],
   "source": [
    "def select_features_using_lasso(X_train, y_train, alpha=0.01):\n",
    "    lasso = Lasso(alpha=alpha)\n",
    "    lasso.fit(X_train, y_train)\n",
    "    selected_features = X_train.columns[lasso.coef_ != 0]\n",
    "    return selected_features\n",
    "\n",
    "feature_counter = Counter()\n",
    "\n",
    "for train_index, _ in cv.split(x, y):\n",
    "\n",
    "    X_train_fold, _ = x.iloc[train_index], x.iloc[train_index]\n",
    "    y_train_fold, _ = y.iloc[train_index], y.iloc[train_index]\n",
    "\n",
    "    # Min-max scaling the training fold.\n",
    "    scaler = MinMaxScaler()\n",
    "    X_train_fold_scaled = scaler.fit_transform(X_train_fold)\n",
    "    X_train_fold_scaled = pd.DataFrame(X_train_fold_scaled, columns=X_train_fold.columns, index=X_train_fold.index)\n",
    "\n",
    "    selected_features = select_features_using_lasso(X_train_fold_scaled, y_train_fold)\n",
    "    feature_counter.update(selected_features)\n",
    "\n",
    "# Select features that were chosen in a majority of the folds.\n",
    "selected_features_final = [feat for feat, count in feature_counter.items() if count > (cv.get_n_splits() / 2)]\n",
    "\n",
    "# Save the selected features to a txt file\n",
    "with open(\"/content/drive/MyDrive/DMVO-mRS/selected_features.txt\", \"w\") as file:\n",
    "    for feature in selected_features_final:\n",
    "        file.write(feature + \"\\n\")\n",
    "\n",
    "print(selected_features_final)"
   ]
  },
  {
   "cell_type": "code",
   "execution_count": null,
   "metadata": {
    "colab": {
     "base_uri": "https://localhost:8080/"
    },
    "executionInfo": {
     "elapsed": 14,
     "status": "ok",
     "timestamp": 1698691341916,
     "user": {
      "displayName": "Mert Karabacak",
      "userId": "14308977132914475412"
     },
     "user_tz": 240
    },
    "id": "iRhWalruZgVZ",
    "outputId": "140c232e-c287-43d8-b47f-51423f2a40ab"
   },
   "outputs": [],
   "source": [
    "# Create empty lists to store metrics for each fold.\n",
    "\n",
    "precision_list = []\n",
    "recall_list = []\n",
    "f1_list = []\n",
    "acc_list = []\n",
    "mcc_list = []\n",
    "auroc_list = []\n",
    "auprc_list = []\n",
    "tpr_list = []\n",
    "prc_list = []\n",
    "brier_list = []\n",
    "true_probs_list = []\n",
    "pred_probs_list = []\n",
    "\n",
    "aggregate_cm = np.zeros((2,2))\n",
    "base_fpr = np.linspace(0, 1, 101)"
   ]
  },
  {
   "cell_type": "code",
   "execution_count": null,
   "metadata": {
    "colab": {
     "base_uri": "https://localhost:8080/"
    },
    "executionInfo": {
     "elapsed": 7159,
     "status": "ok",
     "timestamp": 1698691349064,
     "user": {
      "displayName": "Mert Karabacak",
      "userId": "14308977132914475412"
     },
     "user_tz": 240
    },
    "id": "5oLbONin8YGA",
    "outputId": "f002b860-4462-4dcb-e62b-ec6ea14148a2"
   },
   "outputs": [],
   "source": [
    "# Perform cross-validation with k-fold CV using the best parameters.\n",
    "\n",
    "for train_index, test_index in cv.split(x, y):\n",
    "    X_train_fold, X_test_fold = x[selected_features_final].iloc[train_index], x[selected_features_final].iloc[test_index]\n",
    "    y_train_fold, y_test_fold = y.iloc[train_index], y.iloc[test_index]\n",
    "\n",
    "    tabpfn = TabPFNClassifier(device='cuda', N_ensemble_configurations=8)\n",
    "    tabpfn.fit(X_train_fold, y_train_fold)\n",
    "\n",
    "    calibrated = CalibratedClassifierCV(tabpfn, method='sigmoid', cv='prefit')\n",
    "    calibrated.fit(X_train_fold, y_train_fold)\n",
    "\n",
    "    preds = calibrated.predict(X_test_fold.values)\n",
    "    probs = calibrated.predict_proba(X_test_fold.values)\n",
    "    probs = probs[:, 1]\n",
    "\n",
    "    true_probs_list.extend(y_test_fold)\n",
    "    pred_probs_list.extend(probs)\n",
    "\n",
    "    # Calculate performance metrics.\n",
    "\n",
    "    precision_list.append(precision_score(y_test_fold, preds))\n",
    "    recall_list.append(recall_score(y_test_fold, preds))\n",
    "    f1_list.append(f1_score(y_test_fold, preds))\n",
    "    acc_list.append(accuracy_score(y_test_fold, preds))\n",
    "    mcc_list.append(matthews_corrcoef(y_test_fold, preds))\n",
    "    auroc_list.append(roc_auc_score(y_test_fold, probs))\n",
    "    prc_p, prc_r, _ = precision_recall_curve(y_test_fold, probs)\n",
    "    auprc_list.append(auc(prc_r, prc_p))\n",
    "    brier_list.append(brier_score_loss(y_test_fold, probs))\n",
    "\n",
    "    # Compute and add the confusion matrix of the fold.\n",
    "    cm = confusion_matrix(y_test_fold, preds)\n",
    "    aggregate_cm += cm\n",
    "\n",
    "    # Calculate ROC and PR curves.\n",
    "\n",
    "    fpr, tpr, _ = roc_curve(y_test_fold, probs)\n",
    "    tpr = np.interp(base_fpr, fpr, tpr)\n",
    "    tpr[0] = 0.0\n",
    "    tpr_list.append(tpr)\n",
    "\n",
    "    precision, recall, _ = precision_recall_curve(y_test_fold, probs)\n",
    "    prc = np.interp(base_fpr, recall[::-1], precision[::-1])\n",
    "    prc_list.append(prc)"
   ]
  },
  {
   "cell_type": "code",
   "execution_count": null,
   "metadata": {
    "colab": {
     "base_uri": "https://localhost:8080/"
    },
    "executionInfo": {
     "elapsed": 14,
     "status": "ok",
     "timestamp": 1698691349064,
     "user": {
      "displayName": "Mert Karabacak",
      "userId": "14308977132914475412"
     },
     "user_tz": 240
    },
    "id": "UZNInXD39Tux",
    "outputId": "9bbd0274-f6ee-4ca5-c9d5-db8cd9969741"
   },
   "outputs": [],
   "source": [
    "# Calculate the mean for each metric.\n",
    "\n",
    "precision_mean = np.mean(precision_list)\n",
    "recall_mean = np.mean(recall_list)\n",
    "f1_mean = np.mean(f1_list)\n",
    "acc_mean = np.mean(acc_list)\n",
    "mcc_mean = np.mean(mcc_list)\n",
    "auroc_mean = np.mean(auroc_list)\n",
    "auprc_mean = np.mean(auprc_list)\n",
    "brier_mean = np.mean(brier_list)"
   ]
  },
  {
   "cell_type": "code",
   "execution_count": null,
   "metadata": {
    "colab": {
     "base_uri": "https://localhost:8080/"
    },
    "executionInfo": {
     "elapsed": 896,
     "status": "ok",
     "timestamp": 1698691349954,
     "user": {
      "displayName": "Mert Karabacak",
      "userId": "14308977132914475412"
     },
     "user_tz": 240
    },
    "id": "wRv6O7EUDx0T",
    "outputId": "e5d0879a-10ec-4dbf-9f2a-ec926807a54a"
   },
   "outputs": [],
   "source": [
    "# Calculate the confidence intervals for each metric.\n",
    "\n",
    "metrics = {\n",
    "    'Precision': precision_list,\n",
    "    'Recall': recall_list,\n",
    "    'F1 Score': f1_list,\n",
    "    'Accuracy': acc_list,\n",
    "    'MCC': mcc_list,\n",
    "    'AUROC': auroc_list,\n",
    "    'AUPRC': auprc_list,\n",
    "    'Brier Score': brier_list\n",
    "}\n",
    "\n",
    "result_strings = {}\n",
    "\n",
    "for metric_name, metric_list in metrics.items():\n",
    "    mean = round(np.mean(metric_list), 3)\n",
    "    lower_ci, upper_ci = bootstrap_ci(metric_list)\n",
    "    result_str = f\"{metric_name}: {mean} ({lower_ci:.3f}, {upper_ci:.3f})\"\n",
    "    result_strings[metric_name] = result_str\n",
    "    print(result_str)\n",
    "\n",
    "precision_str = result_strings['Precision']\n",
    "recall_str = result_strings['Recall']\n",
    "f1_str = result_strings['F1 Score']\n",
    "acc_str = result_strings['Accuracy']\n",
    "mcc_str = result_strings['MCC']\n",
    "auroc_str = result_strings['AUROC']\n",
    "auprc_str = result_strings['AUPRC']\n",
    "brier_str = result_strings['Brier Score']\n",
    "\n",
    "with open('/content/drive/MyDrive/DMVO-mRS/results.txt', 'w') as file:\n",
    "    file.write(precision_str + '\\n')\n",
    "    file.write(recall_str + '\\n')\n",
    "    file.write(f1_str + '\\n')\n",
    "    file.write(acc_str + '\\n')\n",
    "    file.write(mcc_str + '\\n')\n",
    "    file.write(auroc_str + '\\n')\n",
    "    file.write(auprc_str + '\\n')\n",
    "    file.write(brier_str + '\\n')"
   ]
  },
  {
   "cell_type": "code",
   "execution_count": null,
   "metadata": {
    "executionInfo": {
     "elapsed": 9,
     "status": "ok",
     "timestamp": 1698691349954,
     "user": {
      "displayName": "Mert Karabacak",
      "userId": "14308977132914475412"
     },
     "user_tz": 240
    },
    "id": "gh0mzmzOcPqm"
   },
   "outputs": [],
   "source": [
    "# Calculate ROC, PR and calibration curves.\n",
    "\n",
    "tpr_list = np.array(tpr_list)\n",
    "mean_tprs = tpr_list.mean(axis=0)\n",
    "std_tprs = tpr_list.std(axis=0)\n",
    "\n",
    "prc_list = np.array(prc_list)\n",
    "mean_prcs = prc_list.mean(axis=0)\n",
    "std_prcs = prc_list.std(axis=0)\n",
    "\n",
    "fraction_of_positives, mean_predicted_value = calibration_curve(true_probs_list, pred_probs_list, n_bins=7, strategy='quantile')"
   ]
  },
  {
   "cell_type": "markdown",
   "metadata": {
    "id": "fLvNgketIQPl"
   },
   "source": [
    "# Plotting"
   ]
  },
  {
   "cell_type": "code",
   "execution_count": null,
   "metadata": {
    "colab": {
     "base_uri": "https://localhost:8080/",
     "height": 1000
    },
    "executionInfo": {
     "elapsed": 1240,
     "status": "ok",
     "timestamp": 1698691351189,
     "user": {
      "displayName": "Mert Karabacak",
      "userId": "14308977132914475412"
     },
     "user_tz": 240
    },
    "id": "0mMqO-euIQPl",
    "outputId": "6c919026-fc7a-44a7-eae1-92015741ea90"
   },
   "outputs": [],
   "source": [
    "# Plot ROC curve.\n",
    "\n",
    "f = pyplot.figure()\n",
    "f.set_figwidth(10)\n",
    "f.set_figheight(10)\n",
    "\n",
    "auroc_label = auroc_str\n",
    "\n",
    "pyplot.plot(base_fpr, mean_tprs, label=auroc_label, color='r', linewidth = 3.5, alpha = 0.75)\n",
    "\n",
    "pyplot.plot([0, 1], [0, 1], linestyle = '--', linewidth=2)\n",
    "\n",
    "pyplot.title('A', x = -0.075, y = 1.005, fontsize = 75, pad = 20)\n",
    "pyplot.xlabel('False Positive Rate', fontsize = 22, fontweight = 'heavy', labelpad = 16)\n",
    "pyplot.ylabel('True Positive Rate', fontsize = 22, fontweight = 'heavy', labelpad = 16)\n",
    "pyplot.tick_params(axis=\"y\",direction=\"out\", labelsize = 16)\n",
    "pyplot.tick_params(axis=\"x\",direction=\"out\", labelsize = 16)\n",
    "\n",
    "leg = pyplot.legend(loc = 'lower right', fontsize = 18)\n",
    "\n",
    "pyplot.savefig('/content/drive/MyDrive/DMVO-mRS/roc.jpg', dpi=300)\n",
    "pyplot.show()"
   ]
  },
  {
   "cell_type": "code",
   "execution_count": null,
   "metadata": {
    "colab": {
     "base_uri": "https://localhost:8080/",
     "height": 1000
    },
    "executionInfo": {
     "elapsed": 1269,
     "status": "ok",
     "timestamp": 1698691352360,
     "user": {
      "displayName": "Mert Karabacak",
      "userId": "14308977132914475412"
     },
     "user_tz": 240
    },
    "id": "GpotrYFBIQPl",
    "outputId": "1f0d3eb5-c42d-4a76-99ce-dacda0365e44"
   },
   "outputs": [],
   "source": [
    "# Plot PR curve.\n",
    "\n",
    "f = pyplot.figure()\n",
    "f.set_figwidth(10)\n",
    "f.set_figheight(10)\n",
    "\n",
    "auprc_label = auprc_str\n",
    "\n",
    "pyplot.plot(base_fpr, mean_prcs, label=auprc_label, color = 'b', linewidth = 3.5, alpha = 0.75)\n",
    "\n",
    "pyplot.title('B', x = -0.075, y = 1.005, fontsize = 75, pad = 20)\n",
    "pyplot.xlabel('Recall', fontsize = 22, fontweight = 'heavy', labelpad = 16)\n",
    "pyplot.ylabel('Precision', fontsize = 22, fontweight = 'heavy', labelpad = 16)\n",
    "pyplot.tick_params(axis=\"y\",direction=\"out\", labelsize = 16)\n",
    "pyplot.tick_params(axis=\"x\",direction=\"out\", labelsize = 16)\n",
    "\n",
    "leg = pyplot.legend(loc = 'lower left', fontsize = 18)\n",
    "\n",
    "pyplot.savefig('/content/drive/MyDrive/DMVO-mRS/prc.jpg', dpi=300)\n",
    "pyplot.show()"
   ]
  },
  {
   "cell_type": "code",
   "execution_count": null,
   "metadata": {
    "colab": {
     "base_uri": "https://localhost:8080/",
     "height": 1000
    },
    "executionInfo": {
     "elapsed": 1015,
     "status": "ok",
     "timestamp": 1698691353279,
     "user": {
      "displayName": "Mert Karabacak",
      "userId": "14308977132914475412"
     },
     "user_tz": 240
    },
    "id": "Xv_0UjXve72D",
    "outputId": "c7d410bc-bb1e-4671-c390-1e2c9dc8ed54"
   },
   "outputs": [],
   "source": [
    "# Plot Calibration curve.\n",
    "\n",
    "f = pyplot.figure()\n",
    "f.set_figwidth(10)\n",
    "f.set_figheight(10)\n",
    "\n",
    "brier_label = brier_str\n",
    "\n",
    "pyplot.plot(mean_predicted_value, fraction_of_positives, 's-', label=brier_label, color='g', linewidth=3.5, alpha=0.75)\n",
    "pyplot.plot([0, 1], [0, 1], linestyle='--', linewidth=2)\n",
    "\n",
    "pyplot.title('C', x=-0.075, y=1.005, fontsize=75, pad=20)\n",
    "pyplot.xlabel('Mean Predicted Probability', fontsize=22, fontweight='heavy', labelpad=16)\n",
    "pyplot.ylabel('Fraction of Positives', fontsize=22, fontweight='heavy', labelpad=16)\n",
    "pyplot.tick_params(axis=\"y\", direction=\"out\", labelsize=16)\n",
    "pyplot.tick_params(axis=\"x\", direction=\"out\", labelsize=16)\n",
    "\n",
    "leg = pyplot.legend(loc='lower right', fontsize=18)\n",
    "\n",
    "pyplot.savefig('/content/drive/MyDrive/DMVO-mRS/calibration.jpg', dpi=300)\n",
    "pyplot.show()"
   ]
  },
  {
   "cell_type": "code",
   "execution_count": null,
   "metadata": {
    "colab": {
     "base_uri": "https://localhost:8080/",
     "height": 991
    },
    "executionInfo": {
     "elapsed": 513,
     "status": "ok",
     "timestamp": 1698691353691,
     "user": {
      "displayName": "Mert Karabacak",
      "userId": "14308977132914475412"
     },
     "user_tz": 240
    },
    "id": "lLxnGc6SmJuL",
    "outputId": "5990cc58-3b8e-49a1-a926-40dbc324a86c"
   },
   "outputs": [],
   "source": [
    "# Plot the aggregate confusion matrix\n",
    "f = pyplot.figure(figsize=(10, 10))\n",
    "aggregate_cm = aggregate_cm.astype(int)\n",
    "sns.heatmap(aggregate_cm, annot=True, fmt='d', cmap='Blues', cbar=False, annot_kws={\"size\": 16}, linewidths=1, linecolor='black')\n",
    "\n",
    "labels = ['mRS 0-2', 'mRS > 2']\n",
    "pyplot.xticks([0.5, 1.5], labels, fontsize=16, fontweight='heavy')\n",
    "pyplot.yticks([0.5, 1.5], labels, fontsize=16, fontweight='heavy', va='center')\n",
    "\n",
    "pyplot.xlabel('Predicted', fontsize=22, fontweight='heavy', labelpad=16)\n",
    "pyplot.ylabel('Truth', fontsize=22, fontweight='heavy', labelpad=16)\n",
    "\n",
    "pyplot.tick_params(axis=\"y\", direction=\"out\", pad=10)\n",
    "pyplot.tick_params(axis=\"x\", direction=\"out\", pad=10)\n",
    "pyplot.title('D', x=-0.075, y=1.005, fontsize=75, pad=20)\n",
    "\n",
    "pyplot.savefig('/content/drive/MyDrive/DMVO-mRS/aggregate_cm.jpg', dpi=300)\n",
    "pyplot.show()"
   ]
  },
  {
   "cell_type": "code",
   "execution_count": null,
   "metadata": {
    "colab": {
     "base_uri": "https://localhost:8080/",
     "height": 928,
     "output_embedded_package_id": "1uak4Fq9Eau-Rnm8Z0nFscJPeYFUnQlc1"
    },
    "executionInfo": {
     "elapsed": 7717,
     "status": "ok",
     "timestamp": 1698691361314,
     "user": {
      "displayName": "Mert Karabacak",
      "userId": "14308977132914475412"
     },
     "user_tz": 240
    },
    "id": "Jl30adfWRZ8n",
    "outputId": "63e7761b-c725-4370-dd01-eadfedbf12ba"
   },
   "outputs": [],
   "source": [
    "roc = cv2.imread('/content/drive/MyDrive/DMVO-mRS/roc.jpg')\n",
    "prc = cv2.imread('/content/drive/MyDrive/DMVO-mRS/prc.jpg')\n",
    "cal = cv2.imread('/content/drive/MyDrive/DMVO-mRS/calibration.jpg')\n",
    "cm = cv2.imread('/content/drive/MyDrive/DMVO-mRS/aggregate_cm.jpg')\n",
    "\n",
    "fig1 = cv2.hconcat([roc, prc])\n",
    "fig2 = cv2.hconcat([cal, cm])\n",
    "\n",
    "fig = cv2.vconcat([fig1, fig2])\n",
    "\n",
    "cv2_imshow(fig)\n",
    "\n",
    "cv2.imwrite('/content/drive/MyDrive/DMVO-mRS/fig.jpg', fig, [cv2.IMWRITE_JPEG_QUALITY, 100])"
   ]
  },
  {
   "cell_type": "markdown",
   "metadata": {
    "id": "qYnu4PnCIQPm"
   },
   "source": [
    "# SHAP"
   ]
  },
  {
   "cell_type": "code",
   "execution_count": null,
   "metadata": {
    "executionInfo": {
     "elapsed": 11,
     "status": "ok",
     "timestamp": 1698691361314,
     "user": {
      "displayName": "Mert Karabacak",
      "userId": "14308977132914475412"
     },
     "user_tz": 240
    },
    "id": "x2P2or1bx25u"
   },
   "outputs": [],
   "source": [
    "import textwrap\n",
    "def wrap_labels(ax, width, break_long_words=False):\n",
    "    labels = []\n",
    "    for label in ax.get_yticklabels():\n",
    "        text = label.get_text()\n",
    "        labels.append(textwrap.fill(text, width=width,\n",
    "                                    break_long_words=break_long_words))\n",
    "    ax.set_yticklabels(labels, rotation=0)"
   ]
  },
  {
   "cell_type": "code",
   "execution_count": null,
   "metadata": {
    "colab": {
     "base_uri": "https://localhost:8080/"
    },
    "executionInfo": {
     "elapsed": 734038,
     "status": "ok",
     "timestamp": 1698692095344,
     "user": {
      "displayName": "Mert Karabacak",
      "userId": "14308977132914475412"
     },
     "user_tz": 240
    },
    "id": "uqEvHE7gc_EF",
    "outputId": "48665a03-1fbf-4419-8ea6-2fe36e14aa78"
   },
   "outputs": [],
   "source": [
    "#Calculate SHAP values.\n",
    "\n",
    "explainer = shap.Explainer(calibrated.predict, x[selected_features_final])\n",
    "shap_values = explainer(x[selected_features_final])"
   ]
  },
  {
   "cell_type": "code",
   "execution_count": null,
   "metadata": {
    "colab": {
     "base_uri": "https://localhost:8080/",
     "height": 1000
    },
    "executionInfo": {
     "elapsed": 1807,
     "status": "ok",
     "timestamp": 1698692096949,
     "user": {
      "displayName": "Mert Karabacak",
      "userId": "14308977132914475412"
     },
     "user_tz": 240
    },
    "id": "cGHrKLQXdGaW",
    "outputId": "3c214327-7e7d-408f-a795-6710b869776d"
   },
   "outputs": [],
   "source": [
    "#Plot SHAP bar plot.\n",
    "\n",
    "shap.plots.bar(shap_values, max_display = 25, show=False)\n",
    "\n",
    "fig = pyplot.gcf()\n",
    "ax = pyplot.gca()\n",
    "fig.set_figheight(10)\n",
    "fig.set_figwidth(6)\n",
    "\n",
    "pyplot.xlabel(\"Mean |SHAP Value|\", fontsize =12, fontweight = 'heavy', labelpad = 8)\n",
    "pyplot.tick_params(axis=\"y\",direction=\"out\", labelsize = 12)\n",
    "pyplot.tick_params(axis=\"x\",direction=\"out\", labelsize = 12)\n",
    "\n",
    "#wrap_labels(ax, 30)\n",
    "ax.figure\n",
    "\n",
    "pyplot.savefig('/content/drive/MyDrive/DMVO-mRS/shap.jpg', dpi=300, bbox_inches='tight')"
   ]
  },
  {
   "cell_type": "markdown",
   "metadata": {
    "id": "cwYwpeSZz_-x"
   },
   "source": [
    "#Partial Dependency Plot"
   ]
  },
  {
   "cell_type": "code",
   "execution_count": null,
   "metadata": {
    "colab": {
     "base_uri": "https://localhost:8080/"
    },
    "executionInfo": {
     "elapsed": 103,
     "status": "ok",
     "timestamp": 1698692096949,
     "user": {
      "displayName": "Mert Karabacak",
      "userId": "14308977132914475412"
     },
     "user_tz": 240
    },
    "id": "cCezSsG3XK1c",
    "outputId": "b36efc2c-cfcc-4430-a5d4-07d8758359d0"
   },
   "outputs": [],
   "source": [
    "column_filters = {\n",
    "    'Age': (18, 90),\n",
    "}\n",
    "\n",
    "for column, (min_val, max_val) in column_filters.items():\n",
    "    if column in x.columns:\n",
    "        x = x[(x[column] > min_val) & (x[column] < max_val)]"
   ]
  },
  {
   "cell_type": "code",
   "execution_count": null,
   "metadata": {
    "executionInfo": {
     "elapsed": 98,
     "status": "ok",
     "timestamp": 1698692096949,
     "user": {
      "displayName": "Mert Karabacak",
      "userId": "14308977132914475412"
     },
     "user_tz": 240
    },
    "id": "jLWR5lmo01KM"
   },
   "outputs": [],
   "source": [
    "pyplot.rcParams[\"figure.figsize\"] = (15, 15)\n",
    "pyplot.rcParams[\"figure.dpi\"] = 300\n",
    "pyplot.rcParams['axes.labelweight'] = 'bold'\n",
    "pyplot.rcParams['axes.labelsize'] = 12\n",
    "pyplot.rcParams['axes.labelpad'] = 6\n",
    "pyplot.rcParams['font.weight'] = 'normal'\n",
    "pyplot.rcParams['lines.linewidth'] = 2.5\n",
    "pyplot.rcParams['xtick.labelsize'] = 8\n",
    "pyplot.rcParams['ytick.labelsize'] = 8"
   ]
  },
  {
   "cell_type": "code",
   "execution_count": null,
   "metadata": {
    "executionInfo": {
     "elapsed": 98,
     "status": "ok",
     "timestamp": 1698692096949,
     "user": {
      "displayName": "Mert Karabacak",
      "userId": "14308977132914475412"
     },
     "user_tz": 240
    },
    "id": "4mCUeepoYdNJ"
   },
   "outputs": [],
   "source": [
    "feature_names = x[selected_features_final].columns\n",
    "categorical_features = ['Sex', 'Race', 'Initial Hospital', 'Antiplatelet Use', 'Diuretic Use', 'Current or Former Smoker', 'Current Alcohol Use', 'Hypertension', 'Dyslipidemia', 'Diabetes', 'Heart Disease', 'Atrial Fibrillation', 'History of Malignancy', 'Prior Stroke or TIA', 'HIV', 'HCV', 'Chronic Kidney Disease', 'Sleep Apnea', 'PVD', 'DVT or PE', 'Obesity', 'Admission LAMS', 'Premorbid mRS', 'Stroke Etiology', 'Occlusion Laterality', 'Occlusion Site', 'mTICI', 'DSA Collaterals', 'Single Phase CTA Collateral Score', 'Dynamic CTP mCTA Collateral Score', 'COVES Score', 'Clot Burden Score', 'Baseline NCCT ASPECTS', 'Hyperdense MCA', 'Hemorrhagic Transformation', 'Type of Thrombectomy', 'Number of Passes', 'Type of Anesthesia', 'IV TPA', 'Mechanical Thrombectomy']"
   ]
  },
  {
   "cell_type": "code",
   "execution_count": null,
   "metadata": {
    "colab": {
     "base_uri": "https://localhost:8080/",
     "height": 1000
    },
    "executionInfo": {
     "elapsed": 18588,
     "status": "ok",
     "timestamp": 1698692115440,
     "user": {
      "displayName": "Mert Karabacak",
      "userId": "14308977132914475412"
     },
     "user_tz": 240
    },
    "id": "UNB6VbOg5KKx",
    "outputId": "36b7ec69-1d77-406a-d8af-63ce6147fdc5"
   },
   "outputs": [],
   "source": [
    "#Calculate the mean absolute SHAP values for each feature.\n",
    "mean_abs_shap_values = np.mean(np.abs(shap_values.values), axis=0)\n",
    "\n",
    "#Create a DataFrame to map feature names to their mean absolute SHAP values.\n",
    "shap_summary = pd.DataFrame(list(zip(feature_names, mean_abs_shap_values)), columns=['Feature', 'Mean SHAP'])\n",
    "\n",
    "#Sort the DataFrame by 'Mean SHAP' in descending order.\n",
    "shap_summary_sorted = shap_summary.sort_values('Mean SHAP', ascending=False)\n",
    "\n",
    "#Get the names of the features.\n",
    "features = shap_summary_sorted['Feature'].tolist()\n",
    "features = features[:9]\n",
    "\n",
    "categorical_features = [item for item in features if item in categorical_features]\n",
    "\n",
    "PartialDependenceDisplay.from_estimator(calibrated, x[selected_features_final], features, categorical_features = categorical_features)\n",
    "pyplot.savefig('/content/drive/MyDrive/DMVO-mRS/pdp.png', dpi=300, bbox_inches='tight')\n",
    "pyplot.show()"
   ]
  }
 ],
 "metadata": {
  "accelerator": "GPU",
  "colab": {
   "gpuType": "T4",
   "machine_shape": "hm",
   "provenance": [
    {
     "file_id": "1HvLhjdECq1ywtQplI27SlSDINTSErOOw",
     "timestamp": 1698681375503
    },
    {
     "file_id": "1nrIM9dRFRji3zGITOPfbeB1NZkcCcgVz",
     "timestamp": 1698679742284
    },
    {
     "file_id": "1WItd11ElrCzaSYFe5nTFwMp6NEI-PlkF",
     "timestamp": 1698592588466
    },
    {
     "file_id": "12n_4avmOo_xrkCA1X6waSucG8naKnMfo",
     "timestamp": 1695408113506
    },
    {
     "file_id": "14TfLVbewZLcEADsU9RM-JZ4Jrc-obgN-",
     "timestamp": 1690322786628
    },
    {
     "file_id": "1Eo4jPVLNOwgUyqgXVFTcpiRbGrIuXwk5",
     "timestamp": 1690313290635
    },
    {
     "file_id": "1ehzQDERWA7oATVlIze0f5fvBuuSk3Il-",
     "timestamp": 1690235650728
    },
    {
     "file_id": "10kjTiT6ZbSYDMQVY6jE58AJ9bNIvu_Z4",
     "timestamp": 1680804894233
    },
    {
     "file_id": "1SyxRVArbYdS2kIxHOoZLuxtWYNsZL3ei",
     "timestamp": 1675315289522
    },
    {
     "file_id": "1rquc9s2K5gcWtyx-P9n0ie3ooY4kzveD",
     "timestamp": 1673820526724
    },
    {
     "file_id": "1sd9nBAoznz2E976naQ2pJvARRLH-vRK7",
     "timestamp": 1673714326538
    },
    {
     "file_id": "1tydPpyRVpKMFnUtRbvvIdQTTUtRQ1SJK",
     "timestamp": 1672252113955
    },
    {
     "file_id": "1FJ2Tp28HBJo_krRjesYEkutbjOcsodmu",
     "timestamp": 1672251686516
    },
    {
     "file_id": "1vmOc15wf8HLrh9xcXe9IRvqZIrBNUFp_",
     "timestamp": 1671647832509
    },
    {
     "file_id": "1jvG_2brh3p2BhjDqh6LIyEOlVCFKYSX6",
     "timestamp": 1671034103968
    },
    {
     "file_id": "1YKiMGVsPQlDRLgB2d3Svjjsp96BkJxlX",
     "timestamp": 1670597416903
    },
    {
     "file_id": "1gG7ScMqQA2JnmntazVsJaQStNW3qHl9R",
     "timestamp": 1670198888608
    },
    {
     "file_id": "1V4GD1xQ2LBQhBny_OS3iBlGyn9mh7oWM",
     "timestamp": 1669993880849
    },
    {
     "file_id": "1euhY_qXOTy9qT_vn0Q6Kb2eEUOCHom8m",
     "timestamp": 1669310009337
    },
    {
     "file_id": "1ksEkZ_gSIaosRd56LkYx54z5oGNBgq2C",
     "timestamp": 1668779215067
    },
    {
     "file_id": "1o0f_u5loubhXZTvFpGUCA_m2gpTKQ6EL",
     "timestamp": 1668619772114
    }
   ],
   "toc_visible": true
  },
  "kernelspec": {
   "display_name": "Python 3 (ipykernel)",
   "language": "python",
   "name": "python3"
  },
  "language_info": {
   "codemirror_mode": {
    "name": "ipython",
    "version": 3
   },
   "file_extension": ".py",
   "mimetype": "text/x-python",
   "name": "python",
   "nbconvert_exporter": "python",
   "pygments_lexer": "ipython3",
   "version": "3.9.6"
  }
 },
 "nbformat": 4,
 "nbformat_minor": 4
}
