{
 "cells": [
  {
   "cell_type": "code",
   "execution_count": null,
   "id": "4AZmJ6jfWEN4",
   "metadata": {
    "colab": {
     "base_uri": "https://localhost:8080/"
    },
    "executionInfo": {
     "elapsed": 1131,
     "status": "ok",
     "timestamp": 1698691146881,
     "user": {
      "displayName": "Mert Karabacak",
      "userId": "14308977132914475412"
     },
     "user_tz": 240
    },
    "id": "4AZmJ6jfWEN4",
    "outputId": "3f20b8c5-fffc-468c-8527-a4efebd4c605"
   },
   "outputs": [],
   "source": [
    " from google.colab import drive\n",
    "drive.mount('/content/drive')"
   ]
  },
  {
   "cell_type": "code",
   "execution_count": null,
   "id": "45bff18b",
   "metadata": {
    "id": "45bff18b"
   },
   "outputs": [],
   "source": [
    "import numpy as np\n",
    "import pandas as pd\n",
    "from pandas.api.types import CategoricalDtype\n",
    "\n",
    "from sklearn.preprocessing import LabelEncoder\n",
    "from sklearn.preprocessing import MinMaxScaler\n",
    "from sklearn.impute import KNNImputer\n",
    "\n",
    "from matplotlib import pyplot as plt\n",
    "\n",
    "pd.set_option('display.max_rows', None)"
   ]
  },
  {
   "cell_type": "code",
   "execution_count": null,
   "id": "721c822b",
   "metadata": {
    "colab": {
     "base_uri": "https://localhost:8080/"
    },
    "executionInfo": {
     "elapsed": 15,
     "status": "ok",
     "timestamp": 1698691146881,
     "user": {
      "displayName": "Mert Karabacak",
      "userId": "14308977132914475412"
     },
     "user_tz": 240
    },
    "id": "721c822b",
    "outputId": "4b06ba72-718f-430d-afa8-289d1b4de91e"
   },
   "outputs": [],
   "source": [
    "#Open csv file.\n",
    "\n",
    "data = pd.read_csv(\"/content/drive/MyDrive/DMVO-mRS/DMVO_mRS.csv\", index_col='Subject_ID')\n",
    "data.shape"
   ]
  },
  {
   "cell_type": "code",
   "execution_count": null,
   "id": "2ddf793b",
   "metadata": {
    "colab": {
     "base_uri": "https://localhost:8080/"
    },
    "executionInfo": {
     "elapsed": 13,
     "status": "ok",
     "timestamp": 1698691146881,
     "user": {
      "displayName": "Mert Karabacak",
      "userId": "14308977132914475412"
     },
     "user_tz": 240
    },
    "id": "2ddf793b",
    "outputId": "a3c56067-c789-42ec-9b2b-9ffd5b70e6fa"
   },
   "outputs": [],
   "source": [
    "#See all columns.\n",
    "\n",
    "print(list(data.columns))"
   ]
  },
  {
   "cell_type": "code",
   "execution_count": null,
   "id": "gmZxeWVx-Ul8",
   "metadata": {
    "id": "gmZxeWVx-Ul8"
   },
   "outputs": [],
   "source": [
    "data = data[['Age', 'Sex', 'Race', 'Initial_Hospital', 'Antiplatelet_Use', 'Diuretic_Use', 'Current_or_Former_Smoker', 'Current_Alcohol_Use', 'Hypertension', 'Dyslipidemia', 'Diabetes', 'Heart_Disease', 'Atrial_Fibrillation', 'History_of_Malignancy', 'Prior_Stroke_or_TIA', 'HIV', 'HCV', 'Chronic_Kidney_Disease', 'Sleep_Apnea', 'PVD', 'DVT_or_PE', 'Obesity', 'Age_Related_Admission_SI', 'Admission_SI', 'Admission_BMI', 'Admission_SBP', 'Admission_DBP', 'Admission_HR', 'Admission_RR', 'Admission_SpO2', 'Admission_Sodium', 'Admission_Potassium', 'Admission_Chloride', 'Admission_Carbon_Dioxide', 'Admission_Anion_Gap', 'Admission_Glucose', 'Admission_BUN', 'Admission_Creatinine', 'Admission_BUN_to_Creatinine_Ratio', 'Admission_Calcium', 'Admission_Phosphorous', 'Admission_Magnesium', 'Admission_Total_Protein', 'Admission_Albumin', 'Admission_ALP', 'Admission_AST', 'Admission_ALT', 'Admission_Total_Bilirubin', 'Admission_Hematocrit', 'Admission_Hemoglobin', 'Admission_WBC_Count', 'Admission_Platelet_Count', 'Admission_Platelet_WBC_Count_Ratio', 'Admission_INR', 'Admission_PT', 'Admission_PTT', 'Admission_NIHSS', 'Admission_LAMS', 'Premorbid_mRS', 'Stroke_Etiology', 'Occlusion_Laterality', 'Occlusion_Site', 'Baseline_NCCT_ASPECTS', 'Hyperdense_MCA', 'rCBF_20', 'rCBF_30', 'rCBF_34', 'rCBF_38', 'Tmax_4s', 'Tmax_6s', 'Tmax_8s', 'Tmax_10s', 'Calculated_Mismatch', 'Calculated_Mismatch_Ratio', 'Hypoperfusion_Intensity_Ratio', 'CBV_34', 'CBV_38', 'CBV_42', 'CBV_Index', 'DSA_Collaterals', 'Single_Phase_CTA_Collateral_Score', 'Dynamic_CTP_mCTA_Collateral_Score', 'COVES_Score', 'Clot_Burden_Score', 'Final_Infarct_Volume_(DWI)', 'Final_Infarct_Volume_(FLAIR)', 'IV_TPA', 'Mechanical_Thrombectomy', 'Type_of_Thrombectomy', 'Number_of_Passes', 'Type_of_Anesthesia', 'Last_Known_Well_to_Door', 'Symptom_Onset_to_Door', 'Door_to_CT', 'Last_Known_Well_to_CT', 'Door_to_Needle_Time', 'Door_to_Groin_Puncture', 'Groin_Puncture_to_First_Pass_Time', 'Door_to_Recanalization', 'First_Pass_to_Recanalization', 'Groin_Puncture_to_Recanalization', 'mTICI', 'Hemorrhagic_Transformation', 'mRS_at_90_days']]"
   ]
  },
  {
   "cell_type": "code",
   "execution_count": null,
   "id": "L8vW6qhfGhBJ",
   "metadata": {
    "id": "L8vW6qhfGhBJ"
   },
   "outputs": [],
   "source": [
    "#Save unimputed data.\n",
    "\n",
    "data.to_csv('/content/drive/MyDrive/DMVO-mRS/unimputed_data.csv')"
   ]
  },
  {
   "cell_type": "code",
   "execution_count": null,
   "id": "sZfcGFO5TwfZ",
   "metadata": {
    "colab": {
     "base_uri": "https://localhost:8080/"
    },
    "executionInfo": {
     "elapsed": 11,
     "status": "ok",
     "timestamp": 1698691146881,
     "user": {
      "displayName": "Mert Karabacak",
      "userId": "14308977132914475412"
     },
     "user_tz": 240
    },
    "id": "sZfcGFO5TwfZ",
    "outputId": "9c5e6328-6d84-4ca5-df5b-8abecf303260"
   },
   "outputs": [],
   "source": [
    "#See all columns.\n",
    "\n",
    "print(list(data.columns))"
   ]
  },
  {
   "cell_type": "code",
   "execution_count": null,
   "id": "4dqVo2njS-DJ",
   "metadata": {
    "colab": {
     "base_uri": "https://localhost:8080/"
    },
    "executionInfo": {
     "elapsed": 9,
     "status": "ok",
     "timestamp": 1698691146881,
     "user": {
      "displayName": "Mert Karabacak",
      "userId": "14308977132914475412"
     },
     "user_tz": 240
    },
    "id": "4dqVo2njS-DJ",
    "outputId": "09fb3223-aaad-4991-9c42-e7255a155cbf"
   },
   "outputs": [],
   "source": [
    "#Define numerical and categorical columns.\n",
    "\n",
    "num_cols = ['Age', 'Age_Related_Admission_SI', 'Admission_SI', 'Admission_BMI', 'Admission_SBP', 'Admission_DBP', 'Admission_HR', 'Admission_RR', 'Admission_SpO2', 'Admission_Sodium', 'Admission_Potassium', 'Admission_Chloride', 'Admission_Carbon_Dioxide', 'Admission_Anion_Gap', 'Admission_Glucose', 'Admission_BUN', 'Admission_Creatinine', 'Admission_BUN_to_Creatinine_Ratio', 'Admission_Calcium', 'Admission_Phosphorous', 'Admission_Magnesium', 'Admission_Total_Protein', 'Admission_Albumin', 'Admission_ALP', 'Admission_AST', 'Admission_ALT', 'Admission_Total_Bilirubin', 'Admission_Hematocrit', 'Admission_Hemoglobin', 'Admission_WBC_Count', 'Admission_Platelet_Count', 'Admission_Platelet_WBC_Count_Ratio', 'Admission_INR', 'Admission_PT', 'Admission_PTT', 'rCBF_20', 'rCBF_30', 'rCBF_34', 'rCBF_38', 'Tmax_4s', 'Tmax_6s', 'Tmax_8s', 'Tmax_10s', 'Calculated_Mismatch', 'Calculated_Mismatch_Ratio', 'Hypoperfusion_Intensity_Ratio', 'CBV_34', 'CBV_38', 'CBV_42', 'CBV_Index', 'Final_Infarct_Volume_(DWI)', 'Final_Infarct_Volume_(FLAIR)', 'Last_Known_Well_to_Door', 'Symptom_Onset_to_Door', 'Door_to_CT', 'Last_Known_Well_to_CT', 'Door_to_Needle_Time', 'Door_to_Groin_Puncture', 'Groin_Puncture_to_First_Pass_Time', 'Door_to_Recanalization', 'First_Pass_to_Recanalization', 'Groin_Puncture_to_Recanalization']\n",
    "print('Numerical columns: {}'.format(num_cols), '\\n')\n",
    "\n",
    "cat_cols = ['Sex', 'Race', 'Initial_Hospital', 'Antiplatelet_Use', 'Diuretic_Use', 'Current_or_Former_Smoker', 'Current_Alcohol_Use', 'Hypertension', 'Dyslipidemia', 'Diabetes', 'Heart_Disease', 'Atrial_Fibrillation', 'History_of_Malignancy', 'Prior_Stroke_or_TIA', 'HIV', 'HCV', 'Chronic_Kidney_Disease', 'Sleep_Apnea', 'PVD', 'DVT_or_PE', 'Obesity',  'Admission_NIHSS', 'Admission_LAMS', 'Premorbid_mRS', 'Stroke_Etiology', 'Occlusion_Laterality', 'Occlusion_Site', 'mTICI', 'DSA_Collaterals', 'Single_Phase_CTA_Collateral_Score', 'Dynamic_CTP_mCTA_Collateral_Score', 'COVES_Score', 'Clot_Burden_Score', 'Baseline_NCCT_ASPECTS', 'Hyperdense_MCA', 'Hemorrhagic_Transformation', 'Type_of_Thrombectomy', 'Number_of_Passes', 'Type_of_Anesthesia', 'IV_TPA', 'Mechanical_Thrombectomy', 'mRS_at_90_days']\n",
    "print('Categorical columns: {}'.format(cat_cols))"
   ]
  },
  {
   "cell_type": "code",
   "execution_count": null,
   "id": "11efb52b",
   "metadata": {
    "id": "11efb52b"
   },
   "outputs": [],
   "source": [
    "#Remove outcomes.\n",
    "\n",
    "num_cols_remove = []\n",
    "cat_cols_remove = []\n",
    "\n",
    "num_cols = [i for i in num_cols if i not in num_cols_remove]\n",
    "cat_cols = [i for i in cat_cols if i not in cat_cols_remove]"
   ]
  },
  {
   "cell_type": "code",
   "execution_count": null,
   "id": "CvcMDbHdTIHA",
   "metadata": {
    "colab": {
     "base_uri": "https://localhost:8080/"
    },
    "executionInfo": {
     "elapsed": 6,
     "status": "ok",
     "timestamp": 1698691146881,
     "user": {
      "displayName": "Mert Karabacak",
      "userId": "14308977132914475412"
     },
     "user_tz": 240
    },
    "id": "CvcMDbHdTIHA",
    "outputId": "07beb976-70a1-45db-e45e-36892fe5d91d"
   },
   "outputs": [],
   "source": [
    "#Check missing values for numerical columns.\n",
    "\n",
    "missing_num = data[num_cols].isnull().mean().round(4).mul(100).sort_values(ascending=False)\n",
    "\n",
    "print(missing_num, '\\n')\n",
    "\n",
    "missing_num = pd.DataFrame(missing_num)\n",
    "\n",
    "missing_num.columns = ['Value']\n",
    "\n",
    "missing_num = missing_num[missing_num['Value'] > 0]\n",
    "\n",
    "print('Numerical variables with missing values: ', list(missing_num.index), '\\n')\n",
    "\n",
    "print('Number of numerical variables with missing values: ', len(list(missing_num.index)), '\\n')\n",
    "\n",
    "missing_num = missing_num[missing_num['Value'] > 30]\n",
    "\n",
    "missing_num = list(missing_num.index)\n",
    "\n",
    "print('Excluded numerical variables: ', missing_num)"
   ]
  },
  {
   "cell_type": "code",
   "execution_count": null,
   "id": "NBxJPB71TJyB",
   "metadata": {
    "id": "NBxJPB71TJyB"
   },
   "outputs": [],
   "source": [
    "#Drop numerical columns with missing values over 30%.\n",
    "\n",
    "data.drop(missing_num, axis=1, inplace=True)"
   ]
  },
  {
   "cell_type": "code",
   "execution_count": null,
   "id": "ebxwNvfwTK7v",
   "metadata": {
    "id": "ebxwNvfwTK7v"
   },
   "outputs": [],
   "source": [
    "#Define new numerical columns.\n",
    "\n",
    "num_cols = [x for x in num_cols if x not in missing_num]"
   ]
  },
  {
   "cell_type": "code",
   "execution_count": null,
   "id": "ff8609cd",
   "metadata": {
    "id": "ff8609cd"
   },
   "outputs": [],
   "source": [
    "#Impute missing numerical values.\n",
    "\n",
    "num_imputer = KNNImputer(n_neighbors=5, weights='uniform', metric='nan_euclidean')\n",
    "data[num_cols] = num_imputer.fit_transform(data[num_cols])"
   ]
  },
  {
   "cell_type": "code",
   "execution_count": null,
   "id": "01b6490e",
   "metadata": {
    "colab": {
     "base_uri": "https://localhost:8080/"
    },
    "executionInfo": {
     "elapsed": 4,
     "status": "ok",
     "timestamp": 1698691147047,
     "user": {
      "displayName": "Mert Karabacak",
      "userId": "14308977132914475412"
     },
     "user_tz": 240
    },
    "id": "01b6490e",
    "outputId": "beb334ae-d1b3-4c7e-ac01-2bc79d6a6824"
   },
   "outputs": [],
   "source": [
    "#Check missing values for categorical columns.\n",
    "\n",
    "missing_cat = data[cat_cols].isnull().mean().round(4).mul(100).sort_values(ascending=False)\n",
    "\n",
    "print(missing_cat, '\\n')\n",
    "\n",
    "missing_cat = pd.DataFrame(missing_cat)\n",
    "\n",
    "missing_cat.columns = ['Value']\n",
    "\n",
    "missing_cat = missing_cat[missing_cat['Value'] > 0]\n",
    "\n",
    "print('Categorical variables with missing values: ', list(missing_cat.index), '\\n')\n",
    "\n",
    "print('Number of categorical variables with missing values: ', len(list(missing_cat.index)), '\\n')\n",
    "\n",
    "missing_cat = missing_cat[missing_cat['Value'] > 30]\n",
    "\n",
    "missing_cat = list(missing_cat.index)\n",
    "\n",
    "print('Excluded categorical variables: ', missing_cat)"
   ]
  },
  {
   "cell_type": "code",
   "execution_count": null,
   "id": "89d3cdc4",
   "metadata": {
    "id": "89d3cdc4"
   },
   "outputs": [],
   "source": [
    "#Drop categorical columns with missing values over 30%.\n",
    "\n",
    "data.drop(missing_cat, axis=1, inplace=True)"
   ]
  },
  {
   "cell_type": "code",
   "execution_count": null,
   "id": "680fe385",
   "metadata": {
    "id": "680fe385"
   },
   "outputs": [],
   "source": [
    "#Define new categorical columns.\n",
    "\n",
    "cat_cols = [x for x in cat_cols if x not in missing_cat]"
   ]
  },
  {
   "cell_type": "code",
   "execution_count": null,
   "id": "9250b986",
   "metadata": {
    "id": "9250b986"
   },
   "outputs": [],
   "source": [
    "#Replace missing categorical values with the mode of each column.\n",
    "\n",
    "for col in cat_cols:\n",
    "    mode_value = data[col].mode()[0]\n",
    "    data[col].fillna(value=mode_value, inplace=True)"
   ]
  },
  {
   "cell_type": "code",
   "execution_count": null,
   "id": "4336ba8a",
   "metadata": {
    "id": "4336ba8a"
   },
   "outputs": [],
   "source": [
    "#Save imputed data.\n",
    "\n",
    "data.to_csv('/content/drive/MyDrive/DMVO-mRS/imputed_data.csv')"
   ]
  },
  {
   "cell_type": "code",
   "execution_count": null,
   "id": "cc12859a",
   "metadata": {
    "id": "cc12859a"
   },
   "outputs": [],
   "source": [
    "#Manual label encoding.\n",
    "\n",
    "data.loc[data['Sex'] == 'Male', 'Sex'] = 0\n",
    "data.loc[data['Sex'] == 'Female', 'Sex'] = 1\n",
    "\n",
    "data.loc[data['Race'] == 'White', 'Race'] = 0\n",
    "data.loc[data['Race'] == 'Black', 'Race'] = 1\n",
    "data.loc[data['Race'] == 'Asian', 'Race'] = 2\n",
    "data.loc[data['Race'] == 'Other', 'Race'] = 3\n",
    "\n",
    "data.loc[data['Initial_Hospital'] == 'Johns Hopkins', 'Initial_Hospital'] = 0\n",
    "data.loc[data['Initial_Hospital'] == 'Other', 'Initial_Hospital'] = 1\n",
    "\n",
    "data.loc[data['Antiplatelet_Use'] == 'No', 'Antiplatelet_Use'] = 0\n",
    "data.loc[data['Antiplatelet_Use'] == 'Yes', 'Antiplatelet_Use'] = 1\n",
    "\n",
    "data.loc[data['Diuretic_Use'] == 'No', 'Diuretic_Use'] = 0\n",
    "data.loc[data['Diuretic_Use'] == 'Yes', 'Diuretic_Use'] = 1\n",
    "\n",
    "data.loc[data['Current_or_Former_Smoker'] == 'No', 'Current_or_Former_Smoker'] = 0\n",
    "data.loc[data['Current_or_Former_Smoker'] == 'Yes', 'Current_or_Former_Smoker'] = 1\n",
    "\n",
    "data.loc[data['Current_Alcohol_Use'] == 'No', 'Current_Alcohol_Use'] = 0\n",
    "data.loc[data['Current_Alcohol_Use'] == 'Yes', 'Current_Alcohol_Use'] = 1\n",
    "\n",
    "data.loc[data['Hypertension'] == 'No', 'Hypertension'] = 0\n",
    "data.loc[data['Hypertension'] == 'Yes', 'Hypertension'] = 1\n",
    "\n",
    "data.loc[data['Dyslipidemia'] == 'No', 'Dyslipidemia'] = 0\n",
    "data.loc[data['Dyslipidemia'] == 'Yes', 'Dyslipidemia'] = 1\n",
    "\n",
    "data.loc[data['Diabetes'] == 'No', 'Diabetes'] = 0\n",
    "data.loc[data['Diabetes'] == 'Yes', 'Diabetes'] = 1\n",
    "\n",
    "data.loc[data['Heart_Disease'] == 'No', 'Heart_Disease'] = 0\n",
    "data.loc[data['Heart_Disease'] == 'Yes', 'Heart_Disease'] = 1\n",
    "\n",
    "data.loc[data['Atrial_Fibrillation'] == 'No', 'Atrial_Fibrillation'] = 0\n",
    "data.loc[data['Atrial_Fibrillation'] == 'Yes', 'Atrial_Fibrillation'] = 1\n",
    "\n",
    "data.loc[data['History_of_Malignancy'] == 'No', 'History_of_Malignancy'] = 0\n",
    "data.loc[data['History_of_Malignancy'] == 'Yes', 'History_of_Malignancy'] = 1\n",
    "\n",
    "data.loc[data['Prior_Stroke_or_TIA'] == 'No', 'Prior_Stroke_or_TIA'] = 0\n",
    "data.loc[data['Prior_Stroke_or_TIA'] == 'Yes', 'Prior_Stroke_or_TIA'] = 1\n",
    "\n",
    "data.loc[data['HIV'] == 'No', 'HIV'] = 0\n",
    "data.loc[data['HIV'] == 'Yes', 'HIV'] = 1\n",
    "\n",
    "data.loc[data['HCV'] == 'No', 'HCV'] = 0\n",
    "data.loc[data['HCV'] == 'Yes', 'HCV'] = 1\n",
    "\n",
    "data.loc[data['Chronic_Kidney_Disease'] == 'No', 'Chronic_Kidney_Disease'] = 0\n",
    "data.loc[data['Chronic_Kidney_Disease'] == 'Yes', 'Chronic_Kidney_Disease'] = 1\n",
    "\n",
    "data.loc[data['Sleep_Apnea'] == 'No', 'Sleep_Apnea'] = 0\n",
    "data.loc[data['Sleep_Apnea'] == 'Yes', 'Sleep_Apnea'] = 1\n",
    "\n",
    "data.loc[data['PVD'] == 'No', 'PVD'] = 0\n",
    "data.loc[data['PVD'] == 'Yes', 'PVD'] = 1\n",
    "\n",
    "data.loc[data['DVT_or_PE'] == 'No', 'DVT_or_PE'] = 0\n",
    "data.loc[data['DVT_or_PE'] == 'Yes', 'DVT_or_PE'] = 1\n",
    "\n",
    "data.loc[data['Obesity'] == 'No', 'Obesity'] = 0\n",
    "data.loc[data['Obesity'] == 'Yes', 'Obesity'] = 1\n",
    "\n",
    "data.loc[data['Stroke_Etiology'] == 'Large artery atherosclerosis', 'Stroke_Etiology'] = 0\n",
    "data.loc[data['Stroke_Etiology'] == 'Cardioembolism', 'Stroke_Etiology'] = 1\n",
    "data.loc[data['Stroke_Etiology'] == 'Small-vessel occlusion', 'Stroke_Etiology'] = 2\n",
    "data.loc[data['Stroke_Etiology'] == 'Stroke of other determined etiology', 'Stroke_Etiology'] = 3\n",
    "data.loc[data['Stroke_Etiology'] == 'Stroke of undetermined etiology', 'Stroke_Etiology'] = 4\n",
    "\n",
    "data.loc[data['Occlusion_Laterality'] == 'Left', 'Occlusion_Laterality'] = 0\n",
    "data.loc[data['Occlusion_Laterality'] == 'Right', 'Occlusion_Laterality'] = 1\n",
    "\n",
    "data.loc[data['Occlusion_Site'] == 'ACA', 'Occlusion_Site'] = 0\n",
    "data.loc[data['Occlusion_Site'] == 'MCA', 'Occlusion_Site'] = 1\n",
    "data.loc[data['Occlusion_Site'] == 'PCA', 'Occlusion_Site'] = 2\n",
    "\n",
    "data.loc[data['Hyperdense_MCA'] == 'No', 'Hyperdense_MCA'] = 0\n",
    "data.loc[data['Hyperdense_MCA'] == 'Yes', 'Hyperdense_MCA'] = 1\n",
    "\n",
    "data.loc[data['IV_TPA'] == 'No', 'IV_TPA'] = 0\n",
    "data.loc[data['IV_TPA'] == 'Yes', 'IV_TPA'] = 1\n",
    "\n",
    "data.loc[data['Mechanical_Thrombectomy'] == 'Not attempted', 'Mechanical_Thrombectomy'] = 0\n",
    "data.loc[data['Mechanical_Thrombectomy'] == 'Attempted', 'Mechanical_Thrombectomy'] = 1\n",
    "\n",
    "data.loc[data['Type_of_Thrombectomy'] == 'MT not attempted', 'Type_of_Thrombectomy'] = 0\n",
    "data.loc[data['Type_of_Thrombectomy'] == 'Direct aspiration', 'Type_of_Thrombectomy'] = 1\n",
    "data.loc[data['Type_of_Thrombectomy'] == 'Stent retriever', 'Type_of_Thrombectomy'] = 2\n",
    "data.loc[data['Type_of_Thrombectomy'] == 'Combined', 'Type_of_Thrombectomy'] = 3\n",
    "\n",
    "data.loc[data['Number_of_Passes'] == 'MT not attempted', 'Number_of_Passes'] = 0\n",
    "data.loc[data['Number_of_Passes'] == '1', 'Number_of_Passes'] = 1\n",
    "data.loc[data['Number_of_Passes'] == '2', 'Number_of_Passes'] = 2\n",
    "data.loc[data['Number_of_Passes'] == '3', 'Number_of_Passes'] = 3\n",
    "data.loc[data['Number_of_Passes'] == '>3', 'Number_of_Passes'] = 4\n",
    "\n",
    "data.loc[data['Type_of_Anesthesia'] == 'MT not attempted', 'Type_of_Anesthesia'] = 0\n",
    "data.loc[data['Type_of_Anesthesia'] == 'General', 'Type_of_Anesthesia'] = 1\n",
    "data.loc[data['Type_of_Anesthesia'] == 'MAC', 'Type_of_Anesthesia'] = 2\n",
    "\n",
    "data.loc[data['mTICI'] == 'MT not attempted', 'mTICI'] = 0\n",
    "data.loc[data['mTICI'] == '0', 'mTICI'] = 1\n",
    "data.loc[data['mTICI'] == '1', 'mTICI'] = 2\n",
    "data.loc[data['mTICI'] == '2a', 'mTICI'] = 3\n",
    "data.loc[data['mTICI'] == '2b', 'mTICI'] = 4\n",
    "data.loc[data['mTICI'] == '2c', 'mTICI'] = 5\n",
    "data.loc[data['mTICI'] == '3', 'mTICI'] = 6\n",
    "\n",
    "data.loc[data['Hemorrhagic_Transformation'] == 'No', 'Hemorrhagic_Transformation'] = 0\n",
    "data.loc[data['Hemorrhagic_Transformation'] == 'Yes', 'Hemorrhagic_Transformation'] = 1"
   ]
  },
  {
   "cell_type": "code",
   "execution_count": null,
   "id": "In9xnFy5B7lY",
   "metadata": {
    "id": "In9xnFy5B7lY"
   },
   "outputs": [],
   "source": [
    "#Change variable names to field names.\n",
    "\n",
    "data_dictionary = pd.read_csv(\"/content/drive/MyDrive/DMVO-mRS/data_dictionary.csv\", encoding = 'latin1', index_col = None, low_memory = False)\n",
    "FieldNames = dict(zip(data_dictionary['ï»¿Variable'], data_dictionary['Field Name']))\n",
    "data.columns = data.columns.map(FieldNames)"
   ]
  },
  {
   "cell_type": "code",
   "execution_count": null,
   "id": "LtoT4R1bMGMR",
   "metadata": {
    "id": "LtoT4R1bMGMR"
   },
   "outputs": [],
   "source": [
    "#Save final data.\n",
    "\n",
    "data.to_csv('/content/drive/MyDrive/DMVO-mRS/final_data.csv')"
   ]
  }
 ],
 "metadata": {
  "colab": {
   "machine_shape": "hm",
   "provenance": [
    {
     "file_id": "1VwaDN7ANIx-EjyXWI3fV1kndcK-lAIq2",
     "timestamp": 1698677616092
    },
    {
     "file_id": "1DGOINypbNSe7x_9AS5v-BlUjVHhA8pPg",
     "timestamp": 1698590030140
    },
    {
     "file_id": "1e8Fpu-pe7O0EfheLaEzbnWzODzKTABOB",
     "timestamp": 1695310476362
    },
    {
     "file_id": "1ivwXHlUcLdC8WZQo6Q6hf-MYahSQ88lq",
     "timestamp": 1681082527584
    },
    {
     "file_id": "1qkdhVqVX240vYpWuEeJY_DKFacob5ztC",
     "timestamp": 1680800063857
    },
    {
     "file_id": "1ggfw-q5XTxdzPn9nnqb4pk7uxKjkpaga",
     "timestamp": 1672250375960
    },
    {
     "file_id": "1g8wyPIRJw1XKU7zF_T4SgLWpAzCOvEQJ",
     "timestamp": 1671643302648
    },
    {
     "file_id": "1Nau1T8kYhu_teXcKnDyTzUTVNIRcruHN",
     "timestamp": 1671032966766
    },
    {
     "file_id": "1fRg4CV3EaBnihAqddzIHeCaU4bmkgUi3",
     "timestamp": 1669913930106
    },
    {
     "file_id": "1AXH9JUz2PztvXr-hpN3EzKrUTEbGW2Si",
     "timestamp": 1669306790787
    }
   ]
  },
  "environment": {
   "kernel": "python3",
   "name": "common-cpu.m100",
   "type": "gcloud",
   "uri": "gcr.io/deeplearning-platform-release/base-cpu:m100"
  },
  "gpuClass": "standard",
  "kernelspec": {
   "display_name": "Python 3 (ipykernel)",
   "language": "python",
   "name": "python3"
  },
  "language_info": {
   "codemirror_mode": {
    "name": "ipython",
    "version": 3
   },
   "file_extension": ".py",
   "mimetype": "text/x-python",
   "name": "python",
   "nbconvert_exporter": "python",
   "pygments_lexer": "ipython3",
   "version": "3.9.6"
  }
 },
 "nbformat": 4,
 "nbformat_minor": 5
}
